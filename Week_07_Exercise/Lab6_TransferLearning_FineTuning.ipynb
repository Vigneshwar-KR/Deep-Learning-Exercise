{
  "cells": [
    {
      "attachments": {},
      "cell_type": "markdown",
      "metadata": {
        "id": "tnpOp1yOWIJT"
      },
      "source": [
        "# **Course**: Deep Learning\n",
        "\n",
        "[<img align=\"right\" width=\"400\" height=\"100\" src=\"https://www.tu-braunschweig.de/typo3conf/ext/tu_braunschweig/Resources/Public/Images/Logos/tu_braunschweig_logo.svg\">](https://www.tu-braunschweig.de/en/)\n",
        "\n",
        "[Mehdi Maboudi](https://www.tu-braunschweig.de/en/igp/staff/mehdi-maboudi) \\([m.maboudi@tu-bs.de](m.maboudi@tu-bs.de)) and [Pedro Achanccaray](https://www.tu-braunschweig.de/en/igp/staff/pedro-diaz) (p.diaz@tu-bs.de)\n",
        "\n",
        "[Technical University of Braunschweig](https://www.tu-braunschweig.de/en/)\n",
        "[Institute of Geodesy and Photogrammetry](https://www.tu-braunschweig.de/igp)"
      ]
    },
    {
      "attachments": {},
      "cell_type": "markdown",
      "metadata": {
        "id": "GCZeFSPlAfEh"
      },
      "source": [
        "# **Assignment 05:** Transfer learning and Fine tuning"
      ]
    },
    {
      "attachments": {},
      "cell_type": "markdown",
      "metadata": {
        "id": "1n4PnQHqBijm"
      },
      "source": [
        "## **Models**"
      ]
    },
    {
      "attachments": {},
      "cell_type": "markdown",
      "metadata": {
        "id": "_S3wHDkxBmEd"
      },
      "source": [
        "## **Results from SoSe2024**\n",
        "\n",
        "Accuracies (test set) and models used in this assignment:\n",
        "\n",
        "- D-X: Dense layer with X neurons\n",
        "- Drop($p$): Dropout layer with $dropout\\_rate=p$\n",
        "\n",
        "<center>\n",
        "\n",
        "|Custom CNN|Transfer learning</br>(TL)|Fine tuning</br>(FT)|TL Model|FT Model|Parameters|\n",
        "|--:|--:|--:|:--|:--|--:|\n",
        "|--|88.3|90.7|VGG, D-100, D-10 | VGG(_block5_conv2_), D-100, D-10|4,719,616|\n",
        "|--|89.0|89.24|VGG, D-256, Drop(0.5), D-100, D-10 | VGG(_block5_conv3_), D-256, Drop(0.5), D-100, D-10 | 2,911,062|\n",
        "|--|39.9|46.3|VGG, D-100, D-10 | VGG(_block5_conv3_), D-100, D-10|2,565,718|\n",
        "</center>\n",
        "\n",
        "## **Results from SoSe2023**\n",
        "\n",
        "<center>\n",
        "\n",
        "|Custom CNN|Transfer learning</br>(TL)|Fine tuning</br>(FT)|TL Model|FT Model|Parameters|\n",
        "|--:|--:|--:|:--|:--|--:|\n",
        "|--|39.54|**57.86**|VGG, D-100, D-10|VGG(_block5_conv1_), D-100, D-10|7,284,930|\n",
        "|77.28|91.09|**93.78**|VGG, D-256, D-128, D-10|VGG(_block5_conv2_), D-256, D-128, D-10|5,278,346|\n",
        "|91.7|95.3|**96.4**|VGG, D-4096, D-4096, D-10|VGG(_2 conv. blocks_), D-4096, D-4096, D-10|20,676,426|\n",
        "|--|62.4|**63.2**|VGG, D-256, D-128, D-64, D-10|VGG(_block5_conv2_), D-256, D-128, D-64, D-10|4,719,616|\n",
        "|--|86.5|--|VGG, D-80, D-20, D-10|--|165,750|\n",
        "</center>"
      ]
    }
  ],
  "metadata": {
    "colab": {
      "collapsed_sections": [
        "i3ammKZcRWqn"
      ],
      "provenance": []
    },
    "gpuClass": "standard",
    "kernelspec": {
      "display_name": "Python 3 (ipykernel)",
      "language": "python",
      "name": "python3"
    },
    "language_info": {
      "codemirror_mode": {
        "name": "ipython",
        "version": 3
      },
      "file_extension": ".py",
      "mimetype": "text/x-python",
      "name": "python",
      "nbconvert_exporter": "python",
      "pygments_lexer": "ipython3",
      "version": "3.8.12"
    }
  },
  "nbformat": 4,
  "nbformat_minor": 0
}
