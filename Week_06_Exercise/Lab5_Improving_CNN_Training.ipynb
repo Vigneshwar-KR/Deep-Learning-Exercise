{
  "cells": [
    {
      "cell_type": "markdown",
      "metadata": {
        "id": "tnpOp1yOWIJT"
      },
      "source": [
        "# **Course**: Deep Learning\n",
        "\n",
        "[<img align=\"right\" width=\"400\" height=\"100\" src=\"https://www.tu-braunschweig.de/typo3conf/ext/tu_braunschweig/Resources/Public/Images/Logos/tu_braunschweig_logo.svg\">](https://www.tu-braunschweig.de/en/)\n",
        "\n",
        "[Mehdi Maboudi](https://www.tu-braunschweig.de/en/igp/staff/mehdi-maboudi) \\([m.maboudi@tu-bs.de](m.maboudi@tu-bs.de)) and [Pedro Achanccaray](https://www.tu-braunschweig.de/en/igp/staff/pedro-diaz) (p.diaz@tu-bs.de)\n",
        "\n",
        "[Technical University of Braunschweig](https://www.tu-braunschweig.de/en/)  \n",
        "[Institute of Geodesy and Photogrammetry](https://www.tu-braunschweig.de/igp)"
      ]
    },
    {
      "cell_type": "markdown",
      "metadata": {
        "id": "GCZeFSPlAfEh"
      },
      "source": [
        "# **Assignment 04:** Improving CNN training"
      ]
    },
    {
      "cell_type": "markdown",
      "metadata": {
        "id": "JOjbezx9AtZR"
      },
      "source": [
        "## **Recommendations**"
      ]
    },
    {
      "cell_type": "markdown",
      "source": [
        "### **1. Wandb report**"
      ],
      "metadata": {
        "id": "7wuwNCHKTOXK"
      }
    },
    {
      "cell_type": "markdown",
      "source": [
        "**Problem: How to differentiate each experiment?**\n",
        "\n",
        "<center>\n",
        "<img src=\"https://drive.google.com/uc?export=view&id=1VDYAp_kvX-iA6aG7tzB6bqDMgsHopQLf\" height=400/>\n",
        "</center>\n",
        "\n",
        "At the end of the report, there is a table with a description of each experiment:\n",
        "\n",
        "<center>\n",
        "<img src=\"https://drive.google.com/uc?export=view&id=1zpQ6O6E8sLoMS2kgIfwmElXKqsvLlP1B\" height=400/>\n",
        "</center>\n",
        "\n",
        "**Solutions:**\n",
        "In the same `project` (`CNN for image classification`)\n",
        "1. Create an `init` for each experiment, where the `name` depends on many parameters (batch size, initializer, optimizer, dataset, etc.)\n",
        "2. Create an `init` for each experiment and include in the `config` all necessary parameters. This will be displayed in the table at the end of the report.\n",
        "\n",
        "```python\n",
        "# start a new wandb run to track this script\n",
        "wandb.init(\n",
        "    # set the wandb project where this run will be logged\n",
        "    project=\"CNN for image classification\",\n",
        "    name=\"{}-{}-{}-{}-{}\".format(MODEL,\n",
        "                                DATASET,\n",
        "                                BATCH_SIZE,\n",
        "                                INITIALIZER,\n",
        "                                OPTIMIZER),\n",
        "\n",
        "    # track hyperparameters and run metadata\n",
        "    config={\n",
        "    \"architecture\": \"CNN\",\n",
        "    \"dataset\": \"EuroSAT_RGB\",\n",
        "    \"bs\": BATCH_SIZE    \n",
        "    }\n",
        ")\n",
        "```"
      ],
      "metadata": {
        "id": "XcSDRs0tTQ6x"
      }
    },
    {
      "cell_type": "markdown",
      "source": [
        "### **2. Comment on your results**"
      ],
      "metadata": {
        "id": "5Ou3v-9LdgPU"
      }
    },
    {
      "cell_type": "markdown",
      "source": [
        "- Summarize your findings\n",
        "- Are your findings the expected one from the theoretical point of view? why? why not?"
      ],
      "metadata": {
        "id": "qYvUp4xYdmOC"
      }
    },
    {
      "cell_type": "markdown",
      "source": [
        "### **3. Loss and accuracy plots**"
      ],
      "metadata": {
        "id": "MiB65_3RdiO0"
      }
    },
    {
      "cell_type": "markdown",
      "source": [
        "Create separete plots for accuracy and loss.\n",
        "\n",
        "\n",
        "<center>\n",
        "<img src=\"https://drive.google.com/uc?export=view&id=1p2PbfTUdlLgdbDQScn_JbjuyEooI9FfE\" height=400/>\n",
        "</center>"
      ],
      "metadata": {
        "id": "mQIAA-17d1Tn"
      }
    },
    {
      "cell_type": "markdown",
      "source": [
        "### **4. Metrics**"
      ],
      "metadata": {
        "id": "AvKN2GlBhdbL"
      }
    },
    {
      "cell_type": "markdown",
      "source": [
        "Just a recommendation, for the bonus assignments, we will use the `f1-score` with the same weight for all classes.\n",
        "\n",
        "If you use `scikit-learn` to compute the [`f1-score`](https://scikit-learn.org/stable/modules/generated/sklearn.metrics.f1_score.html), then:\n",
        "\n",
        "```python\n",
        "from sklearn.metrics import f1_score\n",
        "\n",
        "# Considering class imbalance\n",
        "f1 = f1_score(y_true, y_pred, average='weighted')\n",
        "\n",
        "# Same weight for each class\n",
        "f1 = f1_score(y_true, y_pred, average='macro')\n",
        "```"
      ],
      "metadata": {
        "id": "PNaFg3anh1fJ"
      }
    },
    {
      "cell_type": "markdown",
      "metadata": {
        "id": "i3ammKZcRWqn"
      },
      "source": [
        "# **Lab 05:** Improving CNN training"
      ]
    },
    {
      "cell_type": "markdown",
      "metadata": {
        "id": "hJj98oVxv8XK"
      },
      "source": [
        "In this lab session, we will see the effect of different techniques to improve the training of a CNN model.\n",
        "\n",
        "- Initialization of parameters\n",
        "- Batch normalization\n",
        "- Data augmentation\n",
        "- Learning rate decay\n",
        "- Optimizers\n",
        "\n",
        "For that purpose, we will use the EuroSAT dataset.\n",
        "\n",
        "<center>\n",
        "\n",
        "|Class| Description |\n",
        "|:---:|:-----------:|\n",
        "|  0  | Annual Crop|\n",
        "|  1  |  Forest   |\n",
        "|  2  |Herbaceous Vegetation|\n",
        "|  3  |   Highway     |\n",
        "|  4  |  Industrial  |\n",
        "|  5  |  Pasture  |\n",
        "|  6  |Permanent Crop|\n",
        "|  7  |    Residencial   |\n",
        "|  8  |  River    |\n",
        "|  9  | Sea Lake  |\n",
        "\n",
        "</center>"
      ]
    },
    {
      "cell_type": "markdown",
      "source": [
        "## **Topics**"
      ],
      "metadata": {
        "id": "QTz4Nc2PatHZ"
      }
    },
    {
      "cell_type": "markdown",
      "source": [
        "So, please, **each group** present briefly the following:\n",
        "- Implementation details\n",
        "- Results and challenges\n",
        "- Conclusions"
      ],
      "metadata": {
        "id": "ULzhPzQHNHKL"
      }
    }
  ],
  "metadata": {
    "colab": {
      "provenance": [],
      "collapsed_sections": [
        "GCZeFSPlAfEh",
        "JOjbezx9AtZR",
        "7wuwNCHKTOXK",
        "5Ou3v-9LdgPU",
        "MiB65_3RdiO0",
        "i3ammKZcRWqn"
      ]
    },
    "gpuClass": "standard",
    "kernelspec": {
      "display_name": "Python 3 (ipykernel)",
      "language": "python",
      "name": "python3"
    },
    "language_info": {
      "codemirror_mode": {
        "name": "ipython",
        "version": 3
      },
      "file_extension": ".py",
      "mimetype": "text/x-python",
      "name": "python",
      "nbconvert_exporter": "python",
      "pygments_lexer": "ipython3",
      "version": "3.8.12"
    }
  },
  "nbformat": 4,
  "nbformat_minor": 0
}